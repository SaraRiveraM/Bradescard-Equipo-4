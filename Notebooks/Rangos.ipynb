{
 "cells": [
  {
   "cell_type": "markdown",
   "metadata": {},
   "source": [
    "## Cargar datos"
   ]
  },
  {
   "cell_type": "code",
   "execution_count": 1,
   "metadata": {},
   "outputs": [],
   "source": [
    "# Librerías \n",
    "import pandas as pd\n",
    "import matplotlib.pyplot as plt\n",
    "import numpy as np\n",
    "import seaborn as sns"
   ]
  },
  {
   "cell_type": "code",
   "execution_count": 2,
   "metadata": {},
   "outputs": [
    {
     "name": "stderr",
     "output_type": "stream",
     "text": [
      "C:\\Users\\52452\\AppData\\Local\\Temp\\ipykernel_13984\\269966948.py:1: DtypeWarning: Columns (45,46,47,51,52,53,57,58,59,87,88,89,93,94,95) have mixed types. Specify dtype option on import or set low_memory=False.\n",
      "  data = pd.read_csv('COLL_TEC_CONSOLIDADO.txt', sep=',', encoding='latin1')\n"
     ]
    }
   ],
   "source": [
    "data = pd.read_csv('COLL_TEC_CONSOLIDADO.txt', sep=',', encoding='latin1')"
   ]
  },
  {
   "cell_type": "code",
   "execution_count": 3,
   "metadata": {},
   "outputs": [
    {
     "data": {
      "text/plain": [
       "<Axes: >"
      ]
     },
     "execution_count": 3,
     "metadata": {},
     "output_type": "execute_result"
    },
    {
     "data": {
      "image/png": "[encoded data removed]",
      "text/plain": [
       "<Figure size 640x480 with 1 Axes>"
      ]
     },
     "metadata": {},
     "output_type": "display_data"
    }
   ],
   "source": [
    "data.boxplot(column =['Limite_credito'], grid = False)"
   ]
  },
  {
   "cell_type": "code",
   "execution_count": 4,
   "metadata": {},
   "outputs": [
    {
     "data": {
      "text/plain": [
       "np.float64(5247.896788153325)"
      ]
     },
     "execution_count": 4,
     "metadata": {},
     "output_type": "execute_result"
    }
   ],
   "source": [
    "prom_credit = data[\"Limite_credito\"].mean()\n",
    "prom_credit"
   ]
  },
  {
   "cell_type": "code",
   "execution_count": 5,
   "metadata": {},
   "outputs": [
    {
     "data": {
      "text/plain": [
       "np.float64(130000.0)"
      ]
     },
     "execution_count": 5,
     "metadata": {},
     "output_type": "execute_result"
    }
   ],
   "source": [
    "max_credit = data[\"Limite_credito\"].max()\n",
    "max_credit"
   ]
  },
  {
   "cell_type": "code",
   "execution_count": 6,
   "metadata": {},
   "outputs": [
    {
     "data": {
      "text/plain": [
       "np.float64(0.0)"
      ]
     },
     "execution_count": 6,
     "metadata": {},
     "output_type": "execute_result"
    }
   ],
   "source": [
    "min_credit = data[\"Limite_credito\"].min()\n",
    "min_credit"
   ]
  },
  {
   "cell_type": "code",
   "execution_count": 7,
   "metadata": {},
   "outputs": [],
   "source": [
    "mod_credit = data[\"Limite_credito\"].mode()\n",
    "mod_credit = 2300"
   ]
  },
  {
   "cell_type": "code",
   "execution_count": 8,
   "metadata": {},
   "outputs": [
    {
     "data": {
      "text/plain": [
       "np.float64(3600.0)"
      ]
     },
     "execution_count": 8,
     "metadata": {},
     "output_type": "execute_result"
    }
   ],
   "source": [
    "median_credit = data[\"Limite_credito\"].median()\n",
    "median_credit"
   ]
  },
  {
   "cell_type": "code",
   "execution_count": 42,
   "metadata": {},
   "outputs": [
    {
     "data": {
      "text/plain": [
       "np.float64(1100.0)"
      ]
     },
     "execution_count": 42,
     "metadata": {},
     "output_type": "execute_result"
    }
   ],
   "source": [
    "percentil_15 = data['Limite_credito'].quantile(0.05)\n",
    "percentil_15"
   ]
  },
  {
   "cell_type": "code",
   "execution_count": 64,
   "metadata": {},
   "outputs": [
    {
     "data": {
      "text/plain": [
       "np.float64(6040.0)"
      ]
     },
     "execution_count": 64,
     "metadata": {},
     "output_type": "execute_result"
    }
   ],
   "source": [
    "percentil_75 = data['Limite_credito'].quantile(0.75)\n",
    "percentil_75"
   ]
  },
  {
   "cell_type": "code",
   "execution_count": 53,
   "metadata": {},
   "outputs": [
    {
     "data": {
      "text/plain": [
       "np.float64(10440.0)"
      ]
     },
     "execution_count": 53,
     "metadata": {},
     "output_type": "execute_result"
    }
   ],
   "source": [
    "percentil_90 = data['Limite_credito'].quantile(0.90)\n",
    "percentil_90"
   ]
  },
  {
   "cell_type": "code",
   "execution_count": 55,
   "metadata": {},
   "outputs": [],
   "source": [
    "bins = [min_credit, percentil_15, mod_credit, median_credit, percentil_75, percentil_90, max_credit]\n",
    "labels = [\"Muy bajo\", \"Bajo\", \"Moderado\", \"Medio Alto\", \"Alto\", \"Muy  alto\"]"
   ]
  },
  {
   "cell_type": "code",
   "execution_count": 56,
   "metadata": {},
   "outputs": [],
   "source": [
    "data['Grupo_Credito'] = pd.cut(data['Limite_credito'], bins=bins, labels=labels, include_lowest=True)"
   ]
  },
  {
   "cell_type": "code",
   "execution_count": 57,
   "metadata": {},
   "outputs": [
    {
     "data": {
      "text/html": [
       "<div>\n",
       "<style scoped>\n",
       "    .dataframe tbody tr th:only-of-type {\n",
       "        vertical-align: middle;\n",
       "    }\n",
       "\n",
       "    .dataframe tbody tr th {\n",
       "        vertical-align: top;\n",
       "    }\n",
       "\n",
       "    .dataframe thead th {\n",
       "        text-align: right;\n",
       "    }\n",
       "</style>\n",
       "<table border=\"1\" class=\"dataframe\">\n",
       "  <thead>\n",
       "    <tr style=\"text-align: right;\">\n",
       "      <th></th>\n",
       "      <th>Grupo_Credito</th>\n",
       "      <th>Limite_credito</th>\n",
       "      <th>Socio</th>\n",
       "      <th>ORG</th>\n",
       "      <th>Producto</th>\n",
       "    </tr>\n",
       "  </thead>\n",
       "  <tbody>\n",
       "    <tr>\n",
       "      <th>0</th>\n",
       "      <td>Alto</td>\n",
       "      <td>8800.0</td>\n",
       "      <td>CYA</td>\n",
       "      <td>310</td>\n",
       "      <td>PLCC</td>\n",
       "    </tr>\n",
       "    <tr>\n",
       "      <th>1</th>\n",
       "      <td>Medio Alto</td>\n",
       "      <td>5990.0</td>\n",
       "      <td>CYA</td>\n",
       "      <td>310</td>\n",
       "      <td>PLCC</td>\n",
       "    </tr>\n",
       "    <tr>\n",
       "      <th>2</th>\n",
       "      <td>Medio Alto</td>\n",
       "      <td>5000.0</td>\n",
       "      <td>CYA</td>\n",
       "      <td>310</td>\n",
       "      <td>PLCC</td>\n",
       "    </tr>\n",
       "    <tr>\n",
       "      <th>3</th>\n",
       "      <td>Alto</td>\n",
       "      <td>8800.0</td>\n",
       "      <td>CYA</td>\n",
       "      <td>310</td>\n",
       "      <td>PLCC</td>\n",
       "    </tr>\n",
       "    <tr>\n",
       "      <th>4</th>\n",
       "      <td>Moderado</td>\n",
       "      <td>2590.0</td>\n",
       "      <td>CYA</td>\n",
       "      <td>310</td>\n",
       "      <td>PLCC</td>\n",
       "    </tr>\n",
       "    <tr>\n",
       "      <th>...</th>\n",
       "      <td>...</td>\n",
       "      <td>...</td>\n",
       "      <td>...</td>\n",
       "      <td>...</td>\n",
       "      <td>...</td>\n",
       "    </tr>\n",
       "    <tr>\n",
       "      <th>1289876</th>\n",
       "      <td>Moderado</td>\n",
       "      <td>2600.0</td>\n",
       "      <td>PRO</td>\n",
       "      <td>377</td>\n",
       "      <td>PLCC</td>\n",
       "    </tr>\n",
       "    <tr>\n",
       "      <th>1289877</th>\n",
       "      <td>Moderado</td>\n",
       "      <td>2400.0</td>\n",
       "      <td>PRO</td>\n",
       "      <td>377</td>\n",
       "      <td>PLCC</td>\n",
       "    </tr>\n",
       "    <tr>\n",
       "      <th>1289878</th>\n",
       "      <td>Bajo</td>\n",
       "      <td>2000.0</td>\n",
       "      <td>PRO</td>\n",
       "      <td>377</td>\n",
       "      <td>PLCC</td>\n",
       "    </tr>\n",
       "    <tr>\n",
       "      <th>1289879</th>\n",
       "      <td>Moderado</td>\n",
       "      <td>2600.0</td>\n",
       "      <td>PRO</td>\n",
       "      <td>377</td>\n",
       "      <td>PLCC</td>\n",
       "    </tr>\n",
       "    <tr>\n",
       "      <th>1289880</th>\n",
       "      <td>Moderado</td>\n",
       "      <td>2600.0</td>\n",
       "      <td>PRO</td>\n",
       "      <td>377</td>\n",
       "      <td>PLCC</td>\n",
       "    </tr>\n",
       "  </tbody>\n",
       "</table>\n",
       "<p>1289881 rows × 5 columns</p>\n",
       "</div>"
      ],
      "text/plain": [
       "        Grupo_Credito  Limite_credito Socio  ORG Producto\n",
       "0                Alto          8800.0   CYA  310     PLCC\n",
       "1          Medio Alto          5990.0   CYA  310     PLCC\n",
       "2          Medio Alto          5000.0   CYA  310     PLCC\n",
       "3                Alto          8800.0   CYA  310     PLCC\n",
       "4            Moderado          2590.0   CYA  310     PLCC\n",
       "...               ...             ...   ...  ...      ...\n",
       "1289876      Moderado          2600.0   PRO  377     PLCC\n",
       "1289877      Moderado          2400.0   PRO  377     PLCC\n",
       "1289878          Bajo          2000.0   PRO  377     PLCC\n",
       "1289879      Moderado          2600.0   PRO  377     PLCC\n",
       "1289880      Moderado          2600.0   PRO  377     PLCC\n",
       "\n",
       "[1289881 rows x 5 columns]"
      ]
     },
     "execution_count": 57,
     "metadata": {},
     "output_type": "execute_result"
    }
   ],
   "source": [
    "data_groupes = data[[\"Grupo_Credito\", \"Limite_credito\", \"Socio\", \"ORG\", \"Producto\"]]\n",
    "data_groupes"
   ]
  },
  {
   "cell_type": "code",
   "execution_count": 58,
   "metadata": {},
   "outputs": [
    {
     "name": "stderr",
     "output_type": "stream",
     "text": [
      "C:\\Users\\52452\\AppData\\Local\\Temp\\ipykernel_13984\\521694482.py:2: FutureWarning: The default of observed=False is deprecated and will be changed to True in a future version of pandas. Pass observed=False to retain current behavior or observed=True to adopt the future default and silence this warning.\n",
      "  resultados_socios = data.groupby('Grupo_Credito')['Socio'].value_counts().unstack(fill_value=0)\n",
      "C:\\Users\\52452\\AppData\\Local\\Temp\\ipykernel_13984\\521694482.py:3: FutureWarning: The default of observed=False is deprecated and will be changed to True in a future version of pandas. Pass observed=False to retain current behavior or observed=True to adopt the future default and silence this warning.\n",
      "  resultados_org = data.groupby('Grupo_Credito')['ORG'].value_counts().unstack(fill_value=0)\n",
      "C:\\Users\\52452\\AppData\\Local\\Temp\\ipykernel_13984\\521694482.py:4: FutureWarning: The default of observed=False is deprecated and will be changed to True in a future version of pandas. Pass observed=False to retain current behavior or observed=True to adopt the future default and silence this warning.\n",
      "  resultados_productos = data.groupby('Grupo_Credito')['Producto'].value_counts().unstack(fill_value=0)\n"
     ]
    }
   ],
   "source": [
    "# 1. Agrupar por 'Grupo_Credito' y contar socios, ORG y productos\n",
    "resultados_socios = data.groupby('Grupo_Credito')['Socio'].value_counts().unstack(fill_value=0)\n",
    "resultados_org = data.groupby('Grupo_Credito')['ORG'].value_counts().unstack(fill_value=0)\n",
    "resultados_productos = data.groupby('Grupo_Credito')['Producto'].value_counts().unstack(fill_value=0)"
   ]
  },
  {
   "cell_type": "code",
   "execution_count": 59,
   "metadata": {},
   "outputs": [
    {
     "data": {
      "text/html": [
       "<div>\n",
       "<style scoped>\n",
       "    .dataframe tbody tr th:only-of-type {\n",
       "        vertical-align: middle;\n",
       "    }\n",
       "\n",
       "    .dataframe tbody tr th {\n",
       "        vertical-align: top;\n",
       "    }\n",
       "\n",
       "    .dataframe thead th {\n",
       "        text-align: right;\n",
       "    }\n",
       "</style>\n",
       "<table border=\"1\" class=\"dataframe\">\n",
       "  <thead>\n",
       "    <tr style=\"text-align: right;\">\n",
       "      <th>ORG</th>\n",
       "      <th>310</th>\n",
       "      <th>311</th>\n",
       "      <th>320</th>\n",
       "      <th>340</th>\n",
       "      <th>341</th>\n",
       "      <th>350</th>\n",
       "      <th>352</th>\n",
       "      <th>353</th>\n",
       "      <th>354</th>\n",
       "      <th>355</th>\n",
       "      <th>...</th>\n",
       "      <th>360</th>\n",
       "      <th>362</th>\n",
       "      <th>365</th>\n",
       "      <th>367</th>\n",
       "      <th>372</th>\n",
       "      <th>373</th>\n",
       "      <th>374</th>\n",
       "      <th>375</th>\n",
       "      <th>377</th>\n",
       "      <th>378</th>\n",
       "    </tr>\n",
       "    <tr>\n",
       "      <th>Grupo_Credito</th>\n",
       "      <th></th>\n",
       "      <th></th>\n",
       "      <th></th>\n",
       "      <th></th>\n",
       "      <th></th>\n",
       "      <th></th>\n",
       "      <th></th>\n",
       "      <th></th>\n",
       "      <th></th>\n",
       "      <th></th>\n",
       "      <th></th>\n",
       "      <th></th>\n",
       "      <th></th>\n",
       "      <th></th>\n",
       "      <th></th>\n",
       "      <th></th>\n",
       "      <th></th>\n",
       "      <th></th>\n",
       "      <th></th>\n",
       "      <th></th>\n",
       "      <th></th>\n",
       "    </tr>\n",
       "  </thead>\n",
       "  <tbody>\n",
       "    <tr>\n",
       "      <th>Muy bajo</th>\n",
       "      <td>1890</td>\n",
       "      <td>21599</td>\n",
       "      <td>9837</td>\n",
       "      <td>25</td>\n",
       "      <td>23</td>\n",
       "      <td>22</td>\n",
       "      <td>23109</td>\n",
       "      <td>572</td>\n",
       "      <td>13017</td>\n",
       "      <td>1783</td>\n",
       "      <td>...</td>\n",
       "      <td>5</td>\n",
       "      <td>11</td>\n",
       "      <td>0</td>\n",
       "      <td>0</td>\n",
       "      <td>4315</td>\n",
       "      <td>357</td>\n",
       "      <td>3976</td>\n",
       "      <td>657</td>\n",
       "      <td>932</td>\n",
       "      <td>18</td>\n",
       "    </tr>\n",
       "    <tr>\n",
       "      <th>Bajo</th>\n",
       "      <td>2658</td>\n",
       "      <td>70038</td>\n",
       "      <td>7871</td>\n",
       "      <td>336</td>\n",
       "      <td>7194</td>\n",
       "      <td>40</td>\n",
       "      <td>165573</td>\n",
       "      <td>591</td>\n",
       "      <td>68195</td>\n",
       "      <td>2494</td>\n",
       "      <td>...</td>\n",
       "      <td>376</td>\n",
       "      <td>418</td>\n",
       "      <td>79</td>\n",
       "      <td>128</td>\n",
       "      <td>12082</td>\n",
       "      <td>702</td>\n",
       "      <td>10279</td>\n",
       "      <td>1289</td>\n",
       "      <td>3882</td>\n",
       "      <td>373</td>\n",
       "    </tr>\n",
       "    <tr>\n",
       "      <th>Moderado</th>\n",
       "      <td>2060</td>\n",
       "      <td>65676</td>\n",
       "      <td>17161</td>\n",
       "      <td>138</td>\n",
       "      <td>9898</td>\n",
       "      <td>26</td>\n",
       "      <td>53088</td>\n",
       "      <td>604</td>\n",
       "      <td>29674</td>\n",
       "      <td>5553</td>\n",
       "      <td>...</td>\n",
       "      <td>2331</td>\n",
       "      <td>3349</td>\n",
       "      <td>413</td>\n",
       "      <td>752</td>\n",
       "      <td>426</td>\n",
       "      <td>631</td>\n",
       "      <td>592</td>\n",
       "      <td>1209</td>\n",
       "      <td>3612</td>\n",
       "      <td>350</td>\n",
       "    </tr>\n",
       "    <tr>\n",
       "      <th>Medio Alto</th>\n",
       "      <td>4003</td>\n",
       "      <td>72127</td>\n",
       "      <td>72666</td>\n",
       "      <td>318</td>\n",
       "      <td>45698</td>\n",
       "      <td>259</td>\n",
       "      <td>64768</td>\n",
       "      <td>1345</td>\n",
       "      <td>36502</td>\n",
       "      <td>25144</td>\n",
       "      <td>...</td>\n",
       "      <td>9721</td>\n",
       "      <td>13524</td>\n",
       "      <td>1302</td>\n",
       "      <td>2708</td>\n",
       "      <td>57</td>\n",
       "      <td>1354</td>\n",
       "      <td>85</td>\n",
       "      <td>467</td>\n",
       "      <td>1673</td>\n",
       "      <td>677</td>\n",
       "    </tr>\n",
       "    <tr>\n",
       "      <th>Alto</th>\n",
       "      <td>5560</td>\n",
       "      <td>12356</td>\n",
       "      <td>27928</td>\n",
       "      <td>337</td>\n",
       "      <td>15761</td>\n",
       "      <td>27</td>\n",
       "      <td>26598</td>\n",
       "      <td>1110</td>\n",
       "      <td>15883</td>\n",
       "      <td>6730</td>\n",
       "      <td>...</td>\n",
       "      <td>1713</td>\n",
       "      <td>1762</td>\n",
       "      <td>454</td>\n",
       "      <td>1084</td>\n",
       "      <td>0</td>\n",
       "      <td>1391</td>\n",
       "      <td>0</td>\n",
       "      <td>213</td>\n",
       "      <td>1</td>\n",
       "      <td>0</td>\n",
       "    </tr>\n",
       "    <tr>\n",
       "      <th>Muy  alto</th>\n",
       "      <td>4</td>\n",
       "      <td>0</td>\n",
       "      <td>46310</td>\n",
       "      <td>244</td>\n",
       "      <td>3621</td>\n",
       "      <td>69</td>\n",
       "      <td>26805</td>\n",
       "      <td>7449</td>\n",
       "      <td>18496</td>\n",
       "      <td>8646</td>\n",
       "      <td>...</td>\n",
       "      <td>930</td>\n",
       "      <td>1045</td>\n",
       "      <td>44</td>\n",
       "      <td>373</td>\n",
       "      <td>1</td>\n",
       "      <td>25</td>\n",
       "      <td>0</td>\n",
       "      <td>170</td>\n",
       "      <td>0</td>\n",
       "      <td>0</td>\n",
       "    </tr>\n",
       "  </tbody>\n",
       "</table>\n",
       "<p>6 rows × 23 columns</p>\n",
       "</div>"
      ],
      "text/plain": [
       "ORG             310    311    320  340    341  350     352   353    354  \\\n",
       "Grupo_Credito                                                             \n",
       "Muy bajo       1890  21599   9837   25     23   22   23109   572  13017   \n",
       "Bajo           2658  70038   7871  336   7194   40  165573   591  68195   \n",
       "Moderado       2060  65676  17161  138   9898   26   53088   604  29674   \n",
       "Medio Alto     4003  72127  72666  318  45698  259   64768  1345  36502   \n",
       "Alto           5560  12356  27928  337  15761   27   26598  1110  15883   \n",
       "Muy  alto         4      0  46310  244   3621   69   26805  7449  18496   \n",
       "\n",
       "ORG              355  ...   360    362   365   367    372   373    374   375  \\\n",
       "Grupo_Credito         ...                                                      \n",
       "Muy bajo        1783  ...     5     11     0     0   4315   357   3976   657   \n",
       "Bajo            2494  ...   376    418    79   128  12082   702  10279  1289   \n",
       "Moderado        5553  ...  2331   3349   413   752    426   631    592  1209   \n",
       "Medio Alto     25144  ...  9721  13524  1302  2708     57  1354     85   467   \n",
       "Alto            6730  ...  1713   1762   454  1084      0  1391      0   213   \n",
       "Muy  alto       8646  ...   930   1045    44   373      1    25      0   170   \n",
       "\n",
       "ORG             377  378  \n",
       "Grupo_Credito             \n",
       "Muy bajo        932   18  \n",
       "Bajo           3882  373  \n",
       "Moderado       3612  350  \n",
       "Medio Alto     1673  677  \n",
       "Alto              1    0  \n",
       "Muy  alto         0    0  \n",
       "\n",
       "[6 rows x 23 columns]"
      ]
     },
     "execution_count": 59,
     "metadata": {},
     "output_type": "execute_result"
    }
   ],
   "source": [
    "resultados_org"
   ]
  },
  {
   "cell_type": "code",
   "execution_count": 60,
   "metadata": {},
   "outputs": [
    {
     "data": {
      "text/html": [
       "<div>\n",
       "<style scoped>\n",
       "    .dataframe tbody tr th:only-of-type {\n",
       "        vertical-align: middle;\n",
       "    }\n",
       "\n",
       "    .dataframe tbody tr th {\n",
       "        vertical-align: top;\n",
       "    }\n",
       "\n",
       "    .dataframe thead th {\n",
       "        text-align: right;\n",
       "    }\n",
       "</style>\n",
       "<table border=\"1\" class=\"dataframe\">\n",
       "  <thead>\n",
       "    <tr style=\"text-align: right;\">\n",
       "      <th>Socio</th>\n",
       "      <th>BOD</th>\n",
       "      <th>BRA</th>\n",
       "      <th>CCP</th>\n",
       "      <th>CYA</th>\n",
       "      <th>GCC</th>\n",
       "      <th>LOB</th>\n",
       "      <th>PRO</th>\n",
       "      <th>SHA</th>\n",
       "      <th>SUB</th>\n",
       "    </tr>\n",
       "    <tr>\n",
       "      <th>Grupo_Credito</th>\n",
       "      <th></th>\n",
       "      <th></th>\n",
       "      <th></th>\n",
       "      <th></th>\n",
       "      <th></th>\n",
       "      <th></th>\n",
       "      <th></th>\n",
       "      <th></th>\n",
       "      <th></th>\n",
       "    </tr>\n",
       "  </thead>\n",
       "  <tbody>\n",
       "    <tr>\n",
       "      <th>Muy bajo</th>\n",
       "      <td>27435</td>\n",
       "      <td>22</td>\n",
       "      <td>34</td>\n",
       "      <td>33374</td>\n",
       "      <td>16998</td>\n",
       "      <td>1</td>\n",
       "      <td>3111</td>\n",
       "      <td>2440</td>\n",
       "      <td>929</td>\n",
       "    </tr>\n",
       "    <tr>\n",
       "      <th>Bajo</th>\n",
       "      <td>178073</td>\n",
       "      <td>40</td>\n",
       "      <td>373</td>\n",
       "      <td>88097</td>\n",
       "      <td>78850</td>\n",
       "      <td>0</td>\n",
       "      <td>6843</td>\n",
       "      <td>3862</td>\n",
       "      <td>1293</td>\n",
       "    </tr>\n",
       "    <tr>\n",
       "      <th>Moderado</th>\n",
       "      <td>56863</td>\n",
       "      <td>26</td>\n",
       "      <td>354</td>\n",
       "      <td>94933</td>\n",
       "      <td>32597</td>\n",
       "      <td>4</td>\n",
       "      <td>10820</td>\n",
       "      <td>7175</td>\n",
       "      <td>1235</td>\n",
       "    </tr>\n",
       "    <tr>\n",
       "      <th>Medio Alto</th>\n",
       "      <td>78349</td>\n",
       "      <td>259</td>\n",
       "      <td>1072</td>\n",
       "      <td>194812</td>\n",
       "      <td>46308</td>\n",
       "      <td>7</td>\n",
       "      <td>37236</td>\n",
       "      <td>26913</td>\n",
       "      <td>2699</td>\n",
       "    </tr>\n",
       "    <tr>\n",
       "      <th>Alto</th>\n",
       "      <td>28360</td>\n",
       "      <td>27</td>\n",
       "      <td>46</td>\n",
       "      <td>61942</td>\n",
       "      <td>17596</td>\n",
       "      <td>8</td>\n",
       "      <td>9832</td>\n",
       "      <td>7397</td>\n",
       "      <td>2501</td>\n",
       "    </tr>\n",
       "    <tr>\n",
       "      <th>Muy  alto</th>\n",
       "      <td>27851</td>\n",
       "      <td>69</td>\n",
       "      <td>47</td>\n",
       "      <td>50179</td>\n",
       "      <td>19426</td>\n",
       "      <td>0</td>\n",
       "      <td>14829</td>\n",
       "      <td>8860</td>\n",
       "      <td>7474</td>\n",
       "    </tr>\n",
       "  </tbody>\n",
       "</table>\n",
       "</div>"
      ],
      "text/plain": [
       "Socio             BOD  BRA   CCP     CYA    GCC  LOB    PRO    SHA   SUB\n",
       "Grupo_Credito                                                           \n",
       "Muy bajo        27435   22    34   33374  16998    1   3111   2440   929\n",
       "Bajo           178073   40   373   88097  78850    0   6843   3862  1293\n",
       "Moderado        56863   26   354   94933  32597    4  10820   7175  1235\n",
       "Medio Alto      78349  259  1072  194812  46308    7  37236  26913  2699\n",
       "Alto            28360   27    46   61942  17596    8   9832   7397  2501\n",
       "Muy  alto       27851   69    47   50179  19426    0  14829   8860  7474"
      ]
     },
     "execution_count": 60,
     "metadata": {},
     "output_type": "execute_result"
    }
   ],
   "source": [
    "resultados_socios"
   ]
  },
  {
   "cell_type": "code",
   "execution_count": 61,
   "metadata": {},
   "outputs": [
    {
     "data": {
      "text/html": [
       "<div>\n",
       "<style scoped>\n",
       "    .dataframe tbody tr th:only-of-type {\n",
       "        vertical-align: middle;\n",
       "    }\n",
       "\n",
       "    .dataframe tbody tr th {\n",
       "        vertical-align: top;\n",
       "    }\n",
       "\n",
       "    .dataframe thead th {\n",
       "        text-align: right;\n",
       "    }\n",
       "</style>\n",
       "<table border=\"1\" class=\"dataframe\">\n",
       "  <thead>\n",
       "    <tr style=\"text-align: right;\">\n",
       "      <th>Producto</th>\n",
       "      <th>BK</th>\n",
       "      <th>PLCC</th>\n",
       "      <th>PP</th>\n",
       "    </tr>\n",
       "    <tr>\n",
       "      <th>Grupo_Credito</th>\n",
       "      <th></th>\n",
       "      <th></th>\n",
       "      <th></th>\n",
       "    </tr>\n",
       "  </thead>\n",
       "  <tbody>\n",
       "    <tr>\n",
       "      <th>Muy bajo</th>\n",
       "      <td>50536</td>\n",
       "      <td>33744</td>\n",
       "      <td>64</td>\n",
       "    </tr>\n",
       "    <tr>\n",
       "      <th>Bajo</th>\n",
       "      <td>247597</td>\n",
       "      <td>101303</td>\n",
       "      <td>8531</td>\n",
       "    </tr>\n",
       "    <tr>\n",
       "      <th>Moderado</th>\n",
       "      <td>112570</td>\n",
       "      <td>74556</td>\n",
       "      <td>16881</td>\n",
       "    </tr>\n",
       "    <tr>\n",
       "      <th>Medio Alto</th>\n",
       "      <td>233941</td>\n",
       "      <td>80443</td>\n",
       "      <td>73271</td>\n",
       "    </tr>\n",
       "    <tr>\n",
       "      <th>Alto</th>\n",
       "      <td>87077</td>\n",
       "      <td>19521</td>\n",
       "      <td>21111</td>\n",
       "    </tr>\n",
       "    <tr>\n",
       "      <th>Muy  alto</th>\n",
       "      <td>122278</td>\n",
       "      <td>200</td>\n",
       "      <td>6257</td>\n",
       "    </tr>\n",
       "  </tbody>\n",
       "</table>\n",
       "</div>"
      ],
      "text/plain": [
       "Producto           BK    PLCC     PP\n",
       "Grupo_Credito                       \n",
       "Muy bajo        50536   33744     64\n",
       "Bajo           247597  101303   8531\n",
       "Moderado       112570   74556  16881\n",
       "Medio Alto     233941   80443  73271\n",
       "Alto            87077   19521  21111\n",
       "Muy  alto      122278     200   6257"
      ]
     },
     "execution_count": 61,
     "metadata": {},
     "output_type": "execute_result"
    }
   ],
   "source": [
    "resultados_productos"
   ]
  },
  {
   "cell_type": "code",
   "execution_count": 65,
   "metadata": {},
   "outputs": [
    {
     "data": {
      "image/png": "[encoded data removed]",
      "text/plain": [
       "<Figure size 640x480 with 1 Axes>"
      ]
     },
     "metadata": {},
     "output_type": "display_data"
    }
   ],
   "source": [
    "paleta = sns.color_palette(\"husl\", 3)\n",
    "sns.countplot(data=data, x='Grupo_Credito', hue='Producto', palette= paleta)\n",
    "plt.title('Distribución de Producto por grupo de crédito')\n",
    "plt.show()"
   ]
  },
  {
   "cell_type": "code",
   "execution_count": 63,
   "metadata": {},
   "outputs": [
    {
     "data": {
      "image/png": "[encoded data removed]",
      "text/plain": [
       "<Figure size 640x480 with 1 Axes>"
      ]
     },
     "metadata": {},
     "output_type": "display_data"
    }
   ],
   "source": [
    "paleta = sns.color_palette(\"husl\", 9)\n",
    "sns.countplot(data=data, x='Grupo_Credito', hue='Socio', palette= paleta)\n",
    "plt.title('Distribución de ORG por grupo de crédito')\n",
    "plt.show()"
   ]
  }
 ],
 "metadata": {
  "kernelspec": {
   "display_name": "Python 3",
   "language": "python",
   "name": "python3"
  },
  "language_info": {
   "codemirror_mode": {
    "name": "ipython",
    "version": 3
   },
   "file_extension": ".py",
   "mimetype": "text/x-python",
   "name": "python",
   "nbconvert_exporter": "python",
   "pygments_lexer": "ipython3",
   "version": "3.12.9"
  }
 },
 "nbformat": 4,
 "nbformat_minor": 2
}
